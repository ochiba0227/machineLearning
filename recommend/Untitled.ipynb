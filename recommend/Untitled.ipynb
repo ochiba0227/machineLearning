{
 "cells": [
  {
   "cell_type": "code",
   "execution_count": 1,
   "metadata": {
    "collapsed": false
   },
   "outputs": [
    {
     "name": "stderr",
     "output_type": "stream",
     "text": [
      "Using TensorFlow backend.\n"
     ]
    }
   ],
   "source": [
    "# create regression model\n",
    "from keras.wrappers.scikit_learn import KerasRegressor\n",
    "from keras.models import Sequential\n",
    "from keras.layers import Input, Dense, Dropout, BatchNormalization, Embedding, Flatten, LSTM, Bidirectional\n",
    "from sklearn.metrics import mean_squared_error\n",
    "import numpy as np\n",
    "import pandas as pd\n",
    "def reg_model():\n",
    "    model = Sequential()\n",
    "    model.add(Dense(1024, input_dim=dimension, activation='relu'))\n",
    "    model.add(Dense(512, activation='relu'))\n",
    "    model.add(Dense(256, activation='relu'))\n",
    "    model.add(Dense(dimension))\n",
    "\n",
    "    # compile model\n",
    "    model.compile(loss='mean_squared_error', optimizer='adam')\n",
    "    return model"
   ]
  },
  {
   "cell_type": "code",
   "execution_count": 2,
   "metadata": {
    "collapsed": false
   },
   "outputs": [],
   "source": [
    "# np.NANの部分は未知\n",
    "score = np.array([\n",
    "        [\n",
    "            [5, 3, 0, 1],\n",
    "            [4, 0, 0, 1],\n",
    "            [1, 1, 0, 5],\n",
    "            [1, 0, 0, 4],\n",
    "            [0, 1, 5, 4],\n",
    "        ],\n",
    "        [\n",
    "            [1, 2, 3, 5],\n",
    "            [1, 2, 3, 6],\n",
    "            [1, 2, 3, 9],\n",
    "            [1, 2, 5, 9],\n",
    "            [4, 2, 5, 10],\n",
    "        ]\n",
    "    ])"
   ]
  },
  {
   "cell_type": "code",
   "execution_count": 3,
   "metadata": {
    "collapsed": false
   },
   "outputs": [],
   "source": [
    "X = score[:,:-1]\n",
    "y = score[:,1:]\n",
    "max_features = 100000"
   ]
  },
  {
   "cell_type": "code",
   "execution_count": 4,
   "metadata": {
    "collapsed": false
   },
   "outputs": [],
   "source": [
    "model = Sequential()\n",
    "model.add(LSTM(128,return_sequences=True, input_shape=(None,X.shape[-1])))\n",
    "model.add(Dropout(0.2))\n",
    "model.add(Bidirectional(LSTM(64, return_sequences=True)))\n",
    "model.add(Dropout(0.2))\n",
    "model.add(LSTM(64, return_sequences=True))\n",
    "model.add(Dense(X.shape[-1], activation='softmax'))\n",
    "# compile model\n",
    "model.compile(loss='categorical_crossentropy', optimizer='adam')"
   ]
  },
  {
   "cell_type": "code",
   "execution_count": 5,
   "metadata": {
    "collapsed": false
   },
   "outputs": [
    {
     "name": "stderr",
     "output_type": "stream",
     "text": [
      "/usr/local/lib/python2.7/site-packages/keras/models.py:844: UserWarning: The `nb_epoch` argument in `fit` has been renamed `epochs`.\n",
      "  warnings.warn('The `nb_epoch` argument in `fit` '\n"
     ]
    },
    {
     "data": {
      "text/plain": [
       "<keras.callbacks.History at 0x11cc5fc10>"
      ]
     },
     "execution_count": 5,
     "metadata": {},
     "output_type": "execute_result"
    }
   ],
   "source": [
    "model.fit(X,y, epochs=500, verbose=False)"
   ]
  },
  {
   "cell_type": "code",
   "execution_count": 6,
   "metadata": {
    "collapsed": false
   },
   "outputs": [
    {
     "data": {
      "text/html": [
       "<div>\n",
       "<table border=\"1\" class=\"dataframe\">\n",
       "  <thead>\n",
       "    <tr style=\"text-align: right;\">\n",
       "      <th></th>\n",
       "      <th>0</th>\n",
       "      <th>1</th>\n",
       "      <th>2</th>\n",
       "      <th>3</th>\n",
       "    </tr>\n",
       "  </thead>\n",
       "  <tbody>\n",
       "    <tr>\n",
       "      <th>0</th>\n",
       "      <td>0.088206</td>\n",
       "      <td>0.162755</td>\n",
       "      <td>0.230749</td>\n",
       "      <td>0.518290</td>\n",
       "    </tr>\n",
       "    <tr>\n",
       "      <th>1</th>\n",
       "      <td>0.050791</td>\n",
       "      <td>0.129405</td>\n",
       "      <td>0.215690</td>\n",
       "      <td>0.604113</td>\n",
       "    </tr>\n",
       "    <tr>\n",
       "      <th>2</th>\n",
       "      <td>0.052046</td>\n",
       "      <td>0.119518</td>\n",
       "      <td>0.261249</td>\n",
       "      <td>0.567187</td>\n",
       "    </tr>\n",
       "    <tr>\n",
       "      <th>3</th>\n",
       "      <td>0.109087</td>\n",
       "      <td>0.112376</td>\n",
       "      <td>0.268314</td>\n",
       "      <td>0.510223</td>\n",
       "    </tr>\n",
       "    <tr>\n",
       "      <th>4</th>\n",
       "      <td>0.262276</td>\n",
       "      <td>0.085491</td>\n",
       "      <td>0.180323</td>\n",
       "      <td>0.471910</td>\n",
       "    </tr>\n",
       "  </tbody>\n",
       "</table>\n",
       "</div>"
      ],
      "text/plain": [
       "          0         1         2         3\n",
       "0  0.088206  0.162755  0.230749  0.518290\n",
       "1  0.050791  0.129405  0.215690  0.604113\n",
       "2  0.052046  0.119518  0.261249  0.567187\n",
       "3  0.109087  0.112376  0.268314  0.510223\n",
       "4  0.262276  0.085491  0.180323  0.471910"
      ]
     },
     "execution_count": 6,
     "metadata": {},
     "output_type": "execute_result"
    }
   ],
   "source": [
    "buy = np.array([\n",
    "            [1, 2, 3, 5],\n",
    "            [1, 2, 3, 6],\n",
    "            [1, 2, 3, 9],\n",
    "            [1, 2, 5, 9],\n",
    "            [4, 2, 5, 10]\n",
    "        ]\n",
    "    )\n",
    "bi = buy.reshape(1, buy.shape[0], buy.shape[1])\n",
    "\n",
    "pd.DataFrame(model.predict(bi).reshape(buy.shape[0], buy.shape[1]))"
   ]
  },
  {
   "cell_type": "code",
   "execution_count": null,
   "metadata": {
    "collapsed": false
   },
   "outputs": [],
   "source": [
    "buy2 = np.array([\n",
    "            [1, 2, 3, 5],\n",
    "            [1, 2, 3, 6],\n",
    "            [1, 2, 3, 9],\n",
    "            [1, 2, 5, 9],\n",
    "            [10, 2, 5, 10]\n",
    "        ]\n",
    "    )\n",
    "bi2 = buy2.reshape(1, 5, 4)\n",
    "\n",
    "model.predict(bi2)"
   ]
  },
  {
   "cell_type": "markdown",
   "metadata": {
    "collapsed": true
   },
   "source": [
    "ユーザごとに、時系列（週）ごとに、各アイテムのスコアを畳み込んだものを作成。それを入力とする？"
   ]
  },
  {
   "cell_type": "code",
   "execution_count": null,
   "metadata": {
    "collapsed": false
   },
   "outputs": [],
   "source": [
    "buy3 = np.array([\n",
    "        [1, 0, 0, 1],\n",
    "        [1, 0, 1, 1],\n",
    "        [1, 1, 2, 4],\n",
    "        [1, 1, 3, 5],\n",
    "        [1, 1, 6, 5],\n",
    "        ]\n",
    "    )\n",
    "\n",
    "bi3 = buy3.reshape(1, 5, 4)\n",
    "\n",
    "pd.DataFrame(model.predict(bi3).reshape(5, 4))"
   ]
  },
  {
   "cell_type": "code",
   "execution_count": null,
   "metadata": {
    "collapsed": true
   },
   "outputs": [],
   "source": []
  }
 ],
 "metadata": {
  "kernelspec": {
   "display_name": "Python 2",
   "language": "python",
   "name": "python2"
  },
  "language_info": {
   "codemirror_mode": {
    "name": "ipython",
    "version": 2
   },
   "file_extension": ".py",
   "mimetype": "text/x-python",
   "name": "python",
   "nbconvert_exporter": "python",
   "pygments_lexer": "ipython2",
   "version": "2.7.11"
  }
 },
 "nbformat": 4,
 "nbformat_minor": 2
}
