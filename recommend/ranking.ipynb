{
 "cells": [
  {
   "cell_type": "code",
   "execution_count": 1,
   "metadata": {
    "collapsed": true
   },
   "outputs": [],
   "source": [
    "# ライブラリのインポート\n",
    "import numpy as np\n",
    "import pandas as pd\n",
    "import math"
   ]
  },
  {
   "cell_type": "code",
   "execution_count": 19,
   "metadata": {
    "collapsed": true
   },
   "outputs": [],
   "source": [
    "def csv_to_df(file_path, sep = '\\t'):\n",
    "    return pd.read_csv(file_path, sep)"
   ]
  },
  {
   "cell_type": "code",
   "execution_count": 142,
   "metadata": {
    "collapsed": false
   },
   "outputs": [],
   "source": [
    "import itertools\n",
    "def get_ranking_matrix(genreChar, test_df):\n",
    "    file_path = './train/train_{}.tsv'.format(genreChar)\n",
    "    target_df = csv_to_df(file_path)\n",
    "    buy_df = target_df[(target_df['event_type'] == 3)&(target_df['ad'] == 1)]\n",
    "    bl = buy_df['product_id'].value_counts().head(22).index\n",
    "    ul = test_df[test_df['user_id'].str.contains(genreChar)]['user_id']\n",
    "    rl = range(0,22)\n",
    "    result_df = pd.DataFrame(list(itertools.product(ul, bl)))\n",
    "    result_df[2] = result_df.groupby([0]).cumcount()\n",
    "    return result_df.as_matrix()"
   ]
  },
  {
   "cell_type": "code",
   "execution_count": 143,
   "metadata": {
    "collapsed": false
   },
   "outputs": [],
   "source": [
    "test_file_path = './test/test.tsv'\n",
    "test_df = csv_to_df(test_file_path)"
   ]
  },
  {
   "cell_type": "code",
   "execution_count": 146,
   "metadata": {
    "collapsed": false
   },
   "outputs": [],
   "source": [
    "result_list = []\n",
    "for c in ['A','B','C','D']:\n",
    "    result_list.extend(get_ranking_matrix(c, test_df))"
   ]
  },
  {
   "cell_type": "code",
   "execution_count": 152,
   "metadata": {
    "collapsed": false
   },
   "outputs": [],
   "source": [
    "pd.DataFrame(result_list).to_csv('ranking.tsv', sep = '\\t',header=False,index=False)"
   ]
  },
  {
   "cell_type": "code",
   "execution_count": null,
   "metadata": {
    "collapsed": true
   },
   "outputs": [],
   "source": []
  }
 ],
 "metadata": {
  "kernelspec": {
   "display_name": "Python 2",
   "language": "python",
   "name": "python2"
  },
  "language_info": {
   "codemirror_mode": {
    "name": "ipython",
    "version": 2
   },
   "file_extension": ".py",
   "mimetype": "text/x-python",
   "name": "python",
   "nbconvert_exporter": "python",
   "pygments_lexer": "ipython2",
   "version": "2.7.11"
  }
 },
 "nbformat": 4,
 "nbformat_minor": 2
}
