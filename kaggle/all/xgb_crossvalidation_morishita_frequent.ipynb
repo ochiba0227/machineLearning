{
 "cells": [
  {
   "cell_type": "code",
   "execution_count": 164,
   "metadata": {
    "collapsed": false
   },
   "outputs": [
    {
     "name": "stdout",
     "output_type": "stream",
     "text": [
      "\n",
      "Loading Data...\n"
     ]
    }
   ],
   "source": [
    "import numpy as np\n",
    "import xgboost as xgb\n",
    "import pandas as pd\n",
    "import math\n",
    "\n",
    "from sklearn.cross_validation import train_test_split\n",
    "from ml_metrics import rmsle\n",
    "\n",
    "print ('')\n",
    "print ('Loading Data...')\n",
    "\n",
    "def evalerror(preds, dtrain):\n",
    "\n",
    "    labels = dtrain.get_label()\n",
    "    assert len(preds) == len(labels)\n",
    "    labels = labels.tolist()\n",
    "    preds = preds.tolist()\n",
    "    terms_to_sum = [(math.log(labels[i] + 1) - math.log(max(0,preds[i]) + 1)) ** 2.0 for i,pred in enumerate(labels)]\n",
    "    return 'error', (sum(terms_to_sum) * (1.0/len(preds))) ** 0.5\n",
    "\n",
    "train = pd.read_csv('../kaggle/train_downsample_50000.csv')\n",
    "test = pd.read_csv('../kaggle/test.csv')"
   ]
  },
  {
   "cell_type": "code",
   "execution_count": 165,
   "metadata": {
    "collapsed": false
   },
   "outputs": [
    {
     "name": "stdout",
     "output_type": "stream",
     "text": [
      "\n",
      "Training_Shape: (49999, 11)\n"
     ]
    }
   ],
   "source": [
    "print ('')\n",
    "print ('Training_Shape:', train.shape)\n",
    "\n",
    "ids = test['id']\n",
    "test = test.drop(['id'],axis = 1)\n",
    "\n",
    "y = train['Demanda_uni_equil']\n",
    "X_orig = train[test.columns.values]"
   ]
  },
  {
   "cell_type": "code",
   "execution_count": 166,
   "metadata": {
    "collapsed": false
   },
   "outputs": [],
   "source": [
    "# パンの出現頻度を追加\n",
    "frequent = pd.read_csv('../kaggle/frequent_producto.csv')\n",
    "X_orig = pd.merge(left=X_orig,right=frequent, how='left', left_on='Producto_ID', right_on='ids')"
   ]
  },
  {
   "cell_type": "code",
   "execution_count": 167,
   "metadata": {
    "collapsed": false
   },
   "outputs": [],
   "source": [
    "# Agencia_IDの出現頻度を追加\n",
    "frequent = pd.read_csv('../kaggle/frequent_agencia.csv')\n",
    "X_orig = pd.merge(left=X_orig,right=frequent, how='left', left_on='Agencia_ID', right_on='ids')"
   ]
  },
  {
   "cell_type": "code",
   "execution_count": 168,
   "metadata": {
    "collapsed": false
   },
   "outputs": [],
   "source": [
    "# Canal_IDの出現頻度を追加\n",
    "frequent = pd.read_csv('../kaggle/frequent_canal.csv')\n",
    "X_orig = pd.merge(left=X_orig,right=frequent, how='left', left_on='Canal_ID', right_on='ids')"
   ]
  },
  {
   "cell_type": "code",
   "execution_count": 169,
   "metadata": {
    "collapsed": false
   },
   "outputs": [],
   "source": [
    "# Ruta_SAKの出現頻度を追加\n",
    "frequent = pd.read_csv('../kaggle/frequent_route.csv')\n",
    "X_orig = pd.merge(left=X_orig,right=frequent, how='left', left_on='Ruta_SAK', right_on='ids')"
   ]
  },
  {
   "cell_type": "code",
   "execution_count": 170,
   "metadata": {
    "collapsed": false
   },
   "outputs": [],
   "source": [
    "# Cliente_IDの出現頻度を追加\n",
    "frequent = pd.read_csv('../kaggle/frequent_client.csv')\n",
    "X_orig = pd.merge(left=X_orig,right=frequent, how='left', left_on='Cliente_ID', right_on='ids')"
   ]
  },
  {
   "cell_type": "code",
   "execution_count": 171,
   "metadata": {
    "collapsed": false,
    "scrolled": true
   },
   "outputs": [],
   "source": [
    "# 前週の売上平均値を与える\n",
    "mean_equil = pd.DataFrame(columns=[])\n",
    "mean_equil['Semana'] = list(map(lambda x: x+1,train.loc[:,[\"Semana\",\"Demanda_uni_equil\"]].groupby('Semana')['Demanda_uni_equil'].mean().index.tolist()))\n",
    "mean_equil['uni_equil'] = train.loc[:,[\"Semana\",\"Demanda_uni_equil\"]].groupby('Semana')['Demanda_uni_equil'].mean().as_matrix()"
   ]
  },
  {
   "cell_type": "code",
   "execution_count": 172,
   "metadata": {
    "collapsed": true
   },
   "outputs": [],
   "source": [
    "# プロダクトの売上平均値を与える\n",
    "mean_equil_prd = pd.DataFrame(columns=[])\n",
    "mean_equil_prd['Producto_ID'] = list(map(lambda x: x+1,train.loc[:,[\"Producto_ID\",\"Demanda_uni_equil\"]].groupby('Producto_ID')['Demanda_uni_equil'].mean().index.tolist()))\n",
    "mean_equil_prd['uni_equil_prd'] = train.loc[:,[\"Producto_ID\",\"Demanda_uni_equil\"]].groupby('Producto_ID')['Demanda_uni_equil'].mean().as_matrix()"
   ]
  },
  {
   "cell_type": "code",
   "execution_count": 173,
   "metadata": {
    "collapsed": false
   },
   "outputs": [
    {
     "data": {
      "text/html": [
       "<div>\n",
       "<table border=\"1\" class=\"dataframe\">\n",
       "  <thead>\n",
       "    <tr style=\"text-align: right;\">\n",
       "      <th></th>\n",
       "      <th>Semana</th>\n",
       "      <th>Agencia_ID</th>\n",
       "      <th>Canal_ID</th>\n",
       "      <th>Ruta_SAK</th>\n",
       "      <th>Cliente_ID</th>\n",
       "      <th>Producto_ID</th>\n",
       "      <th>ids_x</th>\n",
       "      <th>producto_freq</th>\n",
       "      <th>ids_y</th>\n",
       "      <th>agencia_freq</th>\n",
       "      <th>ids_x</th>\n",
       "      <th>canal_freq</th>\n",
       "      <th>ids_y</th>\n",
       "      <th>route_freq</th>\n",
       "      <th>ids</th>\n",
       "      <th>client_freq</th>\n",
       "      <th>uni_equil</th>\n",
       "      <th>uni_equil_prd</th>\n",
       "    </tr>\n",
       "  </thead>\n",
       "  <tbody>\n",
       "    <tr>\n",
       "      <th>7465</th>\n",
       "      <td>4</td>\n",
       "      <td>1110</td>\n",
       "      <td>7</td>\n",
       "      <td>3303</td>\n",
       "      <td>2331692</td>\n",
       "      <td>1146</td>\n",
       "      <td>1146</td>\n",
       "      <td>1468604</td>\n",
       "      <td>1110</td>\n",
       "      <td>55275</td>\n",
       "      <td>7</td>\n",
       "      <td>671128</td>\n",
       "      <td>3303</td>\n",
       "      <td>25651</td>\n",
       "      <td>2331692</td>\n",
       "      <td>7</td>\n",
       "      <td>6.962626</td>\n",
       "      <td>17.327273</td>\n",
       "    </tr>\n",
       "  </tbody>\n",
       "</table>\n",
       "</div>"
      ],
      "text/plain": [
       "      Semana  Agencia_ID  Canal_ID  Ruta_SAK  Cliente_ID  Producto_ID  ids_x  \\\n",
       "7465       4        1110         7      3303     2331692         1146   1146   \n",
       "\n",
       "      producto_freq  ids_y  agencia_freq  ids_x  canal_freq  ids_y  \\\n",
       "7465        1468604   1110         55275      7      671128   3303   \n",
       "\n",
       "      route_freq      ids  client_freq  uni_equil  uni_equil_prd  \n",
       "7465       25651  2331692            7   6.962626      17.327273  "
      ]
     },
     "execution_count": 173,
     "metadata": {},
     "output_type": "execute_result"
    }
   ],
   "source": [
    "X_orig = pd.merge(left=X_orig,right=mean_equil, how='left', left_on='Semana', right_on='Semana')\n",
    "X_orig = pd.merge(left=X_orig,right=mean_equil_prd, how='left', left_on='Producto_ID', right_on='Producto_ID')\n",
    "\n",
    "X_orig = X_orig[X_orig[\"Semana\"]>3]\n",
    "\n",
    "X_orig[0:1]"
   ]
  },
  {
   "cell_type": "code",
   "execution_count": 190,
   "metadata": {
    "collapsed": false
   },
   "outputs": [
    {
     "data": {
      "text/html": [
       "<div>\n",
       "<table border=\"1\" class=\"dataframe\">\n",
       "  <thead>\n",
       "    <tr style=\"text-align: right;\">\n",
       "      <th></th>\n",
       "      <th>index</th>\n",
       "      <th>Semana</th>\n",
       "      <th>Cliente_ID</th>\n",
       "      <th>Producto_ID</th>\n",
       "      <th>uni_equil</th>\n",
       "      <th>uni_equil_prd</th>\n",
       "    </tr>\n",
       "  </thead>\n",
       "  <tbody>\n",
       "    <tr>\n",
       "      <th>0</th>\n",
       "      <td>7465</td>\n",
       "      <td>4</td>\n",
       "      <td>2331692</td>\n",
       "      <td>1146</td>\n",
       "      <td>6.962626</td>\n",
       "      <td>17.327273</td>\n",
       "    </tr>\n",
       "  </tbody>\n",
       "</table>\n",
       "</div>"
      ],
      "text/plain": [
       "   index  Semana  Cliente_ID  Producto_ID  uni_equil  uni_equil_prd\n",
       "0   7465       4     2331692         1146   6.962626      17.327273"
      ]
     },
     "execution_count": 190,
     "metadata": {},
     "output_type": "execute_result"
    }
   ],
   "source": [
    "#X = X_orig.loc[:,['Semana','producto_freq','agencia_freq','canal_freq','route_freq','client_freq']]\n",
    "X = X_orig.drop(['ids','ids_x','ids_y'],axis=1)\n",
    "#X = X.drop(['agencia_freq','canal_freq','route_freq'],axis=1)\n",
    "X = X.loc[:,[\"Semana\",\"Cliente_ID\",\"Producto_ID\",\"uni_equil\",\"uni_equil_prd\"]].reset_index()\n",
    "X[0:1]"
   ]
  },
  {
   "cell_type": "code",
   "execution_count": 191,
   "metadata": {
    "collapsed": false
   },
   "outputs": [],
   "source": [
    "params = {}\n",
    "params['objective'] = \"reg:linear\"\n",
    "params['eta'] = 0.1\n",
    "params['max_depth'] = 10\n",
    "params['subsample'] = 0.85\n",
    "params['colsample_bytree'] = 0.7\n",
    "params['silent'] = True"
   ]
  },
  {
   "cell_type": "code",
   "execution_count": null,
   "metadata": {
    "collapsed": false
   },
   "outputs": [
    {
     "name": "stdout",
     "output_type": "stream",
     "text": [
      "[0]\ttrain-error:1.18439\n",
      "Will train until train-error hasn't improved in 20 rounds.\n",
      "[10]\ttrain-error:0.807661\n"
     ]
    }
   ],
   "source": [
    "from sklearn.cross_validation import KFold\n",
    "\n",
    "n_folds = 5\n",
    "num_rounds = 100\n",
    "\n",
    "rmsle_scores = []\n",
    "\n",
    "for train_index, test_index in KFold(n=len(X), n_folds=n_folds, shuffle=True, random_state=1729):\n",
    "    # Xをnparrayへ変更\n",
    "    x_train = X.as_matrix()[train_index]\n",
    "    y_train = y[train_index]\n",
    "    x_test = X.as_matrix()[test_index]\n",
    "    y_test = y[test_index]\n",
    "    \n",
    "    test_preds = np.zeros(test.shape[0])\n",
    "    xg_train = xgb.DMatrix(x_train, label=y_train)\n",
    "    xg_test = xgb.DMatrix(x_test)\n",
    "    \n",
    "    watchlist = [(xg_train, 'train')]\n",
    "    \n",
    "    xgclassifier = xgb.train(params, xg_train, num_rounds, watchlist, feval = evalerror, early_stopping_rounds= 20, verbose_eval = 10)\n",
    "    preds = xgclassifier.predict(xg_test, ntree_limit=xgclassifier.best_iteration)\n",
    "\n",
    "    rmsle_scores.append(rmsle(y_test, preds))"
   ]
  },
  {
   "cell_type": "code",
   "execution_count": 177,
   "metadata": {
    "collapsed": false
   },
   "outputs": [
    {
     "name": "stdout",
     "output_type": "stream",
     "text": [
      "nan\n"
     ]
    }
   ],
   "source": [
    "print(sum(rmsle_scores)/n_folds)"
   ]
  },
  {
   "cell_type": "code",
   "execution_count": 178,
   "metadata": {
    "collapsed": false
   },
   "outputs": [
    {
     "data": {
      "text/plain": [
       "[nan,\n",
       " 0.84907408080590729,\n",
       " 0.8475411590470624,\n",
       " 0.84656645912394335,\n",
       " 0.85103237213126359]"
      ]
     },
     "execution_count": 178,
     "metadata": {},
     "output_type": "execute_result"
    }
   ],
   "source": [
    "rmsle_scores"
   ]
  },
  {
   "cell_type": "code",
   "execution_count": null,
   "metadata": {
    "collapsed": false
   },
   "outputs": [],
   "source": [
    "import matplotlib.pyplot as plt\n",
    "%matplotlib inline \n",
    "\n",
    "#plt.hist(train.loc[:,['Semana','Venta_hoy','Dev_proxima']].groupby('Semana').sum())\n",
    "train.loc[:,['Semana','Venta_hoy','Dev_proxima']].groupby('Semana').sum()"
   ]
  },
  {
   "cell_type": "code",
   "execution_count": null,
   "metadata": {
    "collapsed": true
   },
   "outputs": [],
   "source": []
  }
 ],
 "metadata": {
  "anaconda-cloud": {},
  "kernelspec": {
   "display_name": "Python [Root]",
   "language": "python",
   "name": "Python [Root]"
  },
  "language_info": {
   "codemirror_mode": {
    "name": "ipython",
    "version": 3
   },
   "file_extension": ".py",
   "mimetype": "text/x-python",
   "name": "python",
   "nbconvert_exporter": "python",
   "pygments_lexer": "ipython3",
   "version": "3.5.2"
  }
 },
 "nbformat": 4,
 "nbformat_minor": 0
}
