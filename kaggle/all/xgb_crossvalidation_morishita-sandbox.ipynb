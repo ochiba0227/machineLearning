{
 "cells": [
  {
   "cell_type": "code",
   "execution_count": 8,
   "metadata": {
    "collapsed": false
   },
   "outputs": [
    {
     "name": "stdout",
     "output_type": "stream",
     "text": [
      "\n",
      "Loading Data...\n",
      "\n",
      "Training_Shape: (49999, 11)\n"
     ]
    }
   ],
   "source": [
    "import numpy as np\n",
    "import xgboost as xgb\n",
    "import pandas as pd\n",
    "import math\n",
    "\n",
    "from sklearn.cross_validation import train_test_split\n",
    "from ml_metrics import rmsle\n",
    "\n",
    "print ('')\n",
    "print ('Loading Data...')\n",
    "\n",
    "def evalerror(preds, dtrain):\n",
    "\n",
    "    labels = dtrain.get_label()\n",
    "    assert len(preds) == len(labels)\n",
    "    labels = labels.tolist()\n",
    "    preds = preds.tolist()\n",
    "    terms_to_sum = [(math.log(labels[i] + 1) - math.log(max(0,preds[i]) + 1)) ** 2.0 for i,pred in enumerate(labels)]\n",
    "    return 'error', (sum(terms_to_sum) * (1.0/len(preds))) ** 0.5\n",
    "\n",
    "train = pd.read_csv('../kaggle/train_downsample_50000.csv')\n",
    "test = pd.read_csv('../kaggle/test.csv')\n",
    "\n",
    "print ('')\n",
    "print ('Training_Shape:', train.shape)\n",
    "\n",
    "ids = test['id']\n",
    "test = test.drop(['id'],axis = 1)\n",
    "\n",
    "y = train['Demanda_uni_equil']\n",
    "X = train[test.columns.values]\n"
   ]
  },
  {
   "cell_type": "code",
   "execution_count": 9,
   "metadata": {
    "collapsed": false
   },
   "outputs": [],
   "source": [
    "params = {}\n",
    "params['objective'] = \"reg:linear\"\n",
    "params['eta'] = 0.1\n",
    "params['max_depth'] = 10\n",
    "params['subsample'] = 0.85\n",
    "params['colsample_bytree'] = 0.7\n",
    "params['silent'] = True"
   ]
  },
  {
   "cell_type": "code",
   "execution_count": 10,
   "metadata": {
    "collapsed": false
   },
   "outputs": [
    {
     "name": "stdout",
     "output_type": "stream",
     "text": [
      "[0]\ttrain-error:1.13888\n",
      "Will train until train-error hasn't improved in 20 rounds.\n",
      "[10]\ttrain-error:0.632224\n",
      "[20]\ttrain-error:0.645148\n",
      "[30]\ttrain-error:0.636658\n",
      "Stopping. Best iteration:\n",
      "[12]\ttrain-error:0.630652\n",
      "\n",
      "[0]\ttrain-error:1.14203\n",
      "Will train until train-error hasn't improved in 20 rounds.\n",
      "[10]\ttrain-error:0.637493\n",
      "[20]\ttrain-error:0.653384\n",
      "[30]\ttrain-error:0.639957\n",
      "Stopping. Best iteration:\n",
      "[12]\ttrain-error:0.636429\n",
      "\n",
      "[0]\ttrain-error:1.14452\n",
      "Will train until train-error hasn't improved in 20 rounds.\n",
      "[10]\ttrain-error:0.635988\n",
      "[20]\ttrain-error:0.649411\n",
      "[30]\ttrain-error:0.638914\n",
      "Stopping. Best iteration:\n",
      "[12]\ttrain-error:0.634138\n",
      "\n",
      "[0]\ttrain-error:1.14117\n",
      "Will train until train-error hasn't improved in 20 rounds.\n",
      "[10]\ttrain-error:0.630939\n",
      "[20]\ttrain-error:0.642585\n",
      "[30]\ttrain-error:0.634904\n",
      "Stopping. Best iteration:\n",
      "[12]\ttrain-error:0.628\n",
      "\n",
      "[0]\ttrain-error:1.15282\n",
      "Will train until train-error hasn't improved in 20 rounds.\n",
      "[10]\ttrain-error:0.625943\n",
      "[20]\ttrain-error:0.640875\n",
      "[30]\ttrain-error:0.638671\n",
      "Stopping. Best iteration:\n",
      "[11]\ttrain-error:0.623365\n",
      "\n"
     ]
    }
   ],
   "source": [
    "from sklearn.cross_validation import KFold\n",
    "\n",
    "n_folds = 5\n",
    "num_rounds = 1000\n",
    "\n",
    "rmsle_scores = []\n",
    "\n",
    "for train_index, test_index in KFold(n=len(X), n_folds=n_folds, shuffle=True, random_state=1729):\n",
    "    # Xをnparrayへ変更\n",
    "    x_train = X.as_matrix()[train_index]\n",
    "    y_train = y[train_index]\n",
    "    x_test = X.as_matrix()[test_index]\n",
    "    y_test = y[test_index]\n",
    "    \n",
    "    test_preds = np.zeros(test.shape[0])\n",
    "    xg_train = xgb.DMatrix(x_train, label=y_train)\n",
    "    xg_test = xgb.DMatrix(x_test)\n",
    "    \n",
    "    watchlist = [(xg_train, 'train')]\n",
    "    \n",
    "    xgclassifier = xgb.train(params, xg_train, num_rounds, watchlist, feval = evalerror, early_stopping_rounds= 20, verbose_eval = 10)\n",
    "    preds = xgclassifier.predict(xg_test, ntree_limit=xgclassifier.best_iteration)\n",
    "\n",
    "    rmsle_scores.append(rmsle(y_test, preds))"
   ]
  },
  {
   "cell_type": "code",
   "execution_count": 11,
   "metadata": {
    "collapsed": false
   },
   "outputs": [
    {
     "name": "stdout",
     "output_type": "stream",
     "text": [
      "0.683427819798\n"
     ]
    }
   ],
   "source": [
    "print(sum(rmsle_scores)/n_folds)"
   ]
  },
  {
   "cell_type": "code",
   "execution_count": null,
   "metadata": {
    "collapsed": true
   },
   "outputs": [],
   "source": []
  }
 ],
 "metadata": {
  "anaconda-cloud": {},
  "kernelspec": {
   "display_name": "Python [Root]",
   "language": "python",
   "name": "Python [Root]"
  },
  "language_info": {
   "codemirror_mode": {
    "name": "ipython",
    "version": 3
   },
   "file_extension": ".py",
   "mimetype": "text/x-python",
   "name": "python",
   "nbconvert_exporter": "python",
   "pygments_lexer": "ipython3",
   "version": "3.5.2"
  }
 },
 "nbformat": 4,
 "nbformat_minor": 0
}
