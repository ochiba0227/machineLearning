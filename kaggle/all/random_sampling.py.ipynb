{
 "cells": [
  {
   "cell_type": "code",
   "execution_count": null,
   "metadata": {
    "collapsed": false
   },
   "outputs": [],
   "source": [
    "print('Importing libraries...')\n",
    "import random\n",
    "import pandas as pd\n",
    "\n",
    "original_file = '../kaggle/train.csv'\n",
    "target_file = '../kaggle/train_sample_5000000.csv'\n",
    "target_lines = 5000000\n",
    "\n",
    "print('Counting original file rows...')\n",
    "f = open(original_file,'r')\n",
    "n_lines = sum(1 for l in f)\n",
    "f.close()\n",
    "print('Total number of rows: ', str(n_lines))\n",
    "\n",
    "\n",
    "print('Creating skip indexes...')\n",
    "skip = random.sample(range(1, n_lines), n_lines - target_lines)\n",
    "\n",
    "print('Creating dataframe...')\n",
    "data = pd.read_csv(original_file, header=0, skiprows=skip)\n",
    "skip = None\n",
    "\n",
    "print('Saving sampled CSV...')\n",
    "data.to_csv(target_file, index=False)\n",
    "print('CSV saved > ', target_file)"
   ]
  },
  {
   "cell_type": "code",
   "execution_count": null,
   "metadata": {
    "collapsed": true
   },
   "outputs": [],
   "source": []
  }
 ],
 "metadata": {
  "anaconda-cloud": {},
  "kernelspec": {
   "display_name": "Python [Root]",
   "language": "python",
   "name": "Python [Root]"
  },
  "language_info": {
   "codemirror_mode": {
    "name": "ipython",
    "version": 3
   },
   "file_extension": ".py",
   "mimetype": "text/x-python",
   "name": "python",
   "nbconvert_exporter": "python",
   "pygments_lexer": "ipython3",
   "version": "3.5.2"
  }
 },
 "nbformat": 4,
 "nbformat_minor": 0
}
