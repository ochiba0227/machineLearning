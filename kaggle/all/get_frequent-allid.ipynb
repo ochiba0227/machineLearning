{
 "cells": [
  {
   "cell_type": "code",
   "execution_count": 1,
   "metadata": {
    "collapsed": false
   },
   "outputs": [
    {
     "name": "stdout",
     "output_type": "stream",
     "text": [
      "Importing libraries...\n",
      "Counting original file rows...\n",
      "Total number of rows:  74180465\n",
      "Creating dataframe...\n"
     ]
    }
   ],
   "source": [
    "print('Importing libraries...')\n",
    "import random\n",
    "import pandas as pd\n",
    "\n",
    "original_file = '../kaggle/train.csv'\n",
    "\n",
    "print('Counting original file rows...')\n",
    "f = open(original_file,'r')\n",
    "n_lines = sum(1 for l in f)\n",
    "f.close()\n",
    "print('Total number of rows: ', str(n_lines))\n",
    "\n",
    "print('Creating dataframe...')\n",
    "data = pd.read_csv(original_file)"
   ]
  },
  {
   "cell_type": "code",
   "execution_count": 2,
   "metadata": {
    "collapsed": false
   },
   "outputs": [
    {
     "name": "stdout",
     "output_type": "stream",
     "text": [
      "Saving sampled CSV...\n",
      "CSV saved >  ../kaggle/frequent_producto.csv\n"
     ]
    }
   ],
   "source": [
    "target_file = '../kaggle/frequent_producto.csv'\n",
    "output_data = pd.DataFrame(columns=[])\n",
    "#data = data[:][\"Producto_ID\"].value_counts()\n",
    "output_data['ids'] = data[:][\"Producto_ID\"].value_counts().index.tolist()\n",
    "output_data['producto_freq'] = data[:][\"Producto_ID\"].value_counts().as_matrix()\n",
    "print('Saving sampled CSV...')\n",
    "output_data.to_csv(target_file, index=False)\n",
    "print('CSV saved > ', target_file)"
   ]
  },
  {
   "cell_type": "code",
   "execution_count": 3,
   "metadata": {
    "collapsed": false
   },
   "outputs": [
    {
     "name": "stdout",
     "output_type": "stream",
     "text": [
      "        ids  producto_freq\n",
      "0      1240        2146655\n",
      "1      1242        2043864\n",
      "2      2233        1975550\n",
      "3      1250        1860488\n",
      "4      1284        1670190\n",
      "5      1232        1472082\n",
      "6      1146        1468604\n",
      "7      1278        1398090\n",
      "8     41938        1358295\n",
      "9      1109        1356068\n",
      "10    35651        1345561\n",
      "11     1309        1265355\n",
      "12    43285        1209450\n",
      "13     1212        1196000\n",
      "14     1238        1191873\n",
      "15    43069        1189995\n",
      "16    30532        1079451\n",
      "17    37058        1068101\n",
      "18     1125        1051868\n",
      "19     1150        1033527\n",
      "20     1216        1024504\n",
      "21     2425         944518\n",
      "22     1220         894374\n",
      "23    43058         797858\n",
      "24     3631         797212\n",
      "25    30572         720766\n",
      "26     1230         680953\n",
      "27    43064         665934\n",
      "28      972         603813\n",
      "29    46772         600626\n",
      "...     ...            ...\n",
      "1769  34973              1\n",
      "1770   2097              1\n",
      "1771   2064              1\n",
      "1772  35103              1\n",
      "1773   2060              1\n",
      "1774   3509              1\n",
      "1775   1185              1\n",
      "1776  34124              1\n",
      "1777  35510              1\n",
      "1778  35691              1\n",
      "1779  35697              1\n",
      "1780  31618              1\n",
      "1781  31147              1\n",
      "1782  31628              1\n",
      "1783  33208              1\n",
      "1784  35558              1\n",
      "1785  46234              1\n",
      "1786  35501              1\n",
      "1787  35442              1\n",
      "1788  34071              1\n",
      "1789  35440              1\n",
      "1790  42014              1\n",
      "1791  35441              1\n",
      "1792  42042              1\n",
      "1793  33735              1\n",
      "1794  33845              1\n",
      "1795  30599              1\n",
      "1796  30595              1\n",
      "1797  35406              1\n",
      "1798  36341              1\n",
      "\n",
      "[1799 rows x 2 columns]\n"
     ]
    }
   ],
   "source": [
    "print(output_data)"
   ]
  },
  {
   "cell_type": "code",
   "execution_count": 4,
   "metadata": {
    "collapsed": false
   },
   "outputs": [
    {
     "name": "stdout",
     "output_type": "stream",
     "text": [
      "Saving sampled CSV...\n",
      "CSV saved >  ../kaggle/frequent_agencia.csv\n"
     ]
    }
   ],
   "source": [
    "target_file = '../kaggle/frequent_agencia.csv'\n",
    "output_data = pd.DataFrame(columns=[])\n",
    "output_data['ids'] = data[:][\"Agencia_ID\"].value_counts().index.tolist()\n",
    "output_data['agencia_freq'] = data[:][\"Agencia_ID\"].value_counts().as_matrix()\n",
    "print('Saving sampled CSV...')\n",
    "output_data.to_csv(target_file, index=False)\n",
    "print('CSV saved > ', target_file)"
   ]
  },
  {
   "cell_type": "code",
   "execution_count": 5,
   "metadata": {
    "collapsed": false
   },
   "outputs": [
    {
     "name": "stdout",
     "output_type": "stream",
     "text": [
      "Saving sampled CSV...\n",
      "CSV saved >  ../kaggle/frequent_canal.csv\n"
     ]
    }
   ],
   "source": [
    "target_file = '../kaggle/frequent_canal.csv'\n",
    "output_data = pd.DataFrame(columns=[])\n",
    "output_data['ids'] = data[:][\"Canal_ID\"].value_counts().index.tolist()\n",
    "output_data['canal_freq'] = data[:][\"Canal_ID\"].value_counts().as_matrix()\n",
    "print('Saving sampled CSV...')\n",
    "output_data.to_csv(target_file, index=False)\n",
    "print('CSV saved > ', target_file)"
   ]
  },
  {
   "cell_type": "code",
   "execution_count": 7,
   "metadata": {
    "collapsed": false
   },
   "outputs": [
    {
     "name": "stdout",
     "output_type": "stream",
     "text": [
      "Saving sampled CSV...\n",
      "CSV saved >  ../kaggle/frequent_route.csv\n"
     ]
    }
   ],
   "source": [
    "target_file = '../kaggle/frequent_route.csv'\n",
    "output_data = pd.DataFrame(columns=[])\n",
    "output_data['ids'] = data[:][\"Ruta_SAK\"].value_counts().index.tolist()\n",
    "output_data['route_freq'] = data[:][\"Ruta_SAK\"].value_counts().as_matrix()\n",
    "print('Saving sampled CSV...')\n",
    "output_data.to_csv(target_file, index=False)\n",
    "print('CSV saved > ', target_file)"
   ]
  },
  {
   "cell_type": "code",
   "execution_count": 8,
   "metadata": {
    "collapsed": false
   },
   "outputs": [
    {
     "name": "stdout",
     "output_type": "stream",
     "text": [
      "Saving sampled CSV...\n",
      "CSV saved >  ../kaggle/frequent_client.csv\n"
     ]
    }
   ],
   "source": [
    "target_file = '../kaggle/frequent_client.csv'\n",
    "output_data = pd.DataFrame(columns=[])\n",
    "output_data['ids'] = data[:][\"Cliente_ID\"].value_counts().index.tolist()\n",
    "output_data['client_freq'] = data[:][\"Cliente_ID\"].value_counts().as_matrix()\n",
    "print('Saving sampled CSV...')\n",
    "output_data.to_csv(target_file, index=False)\n",
    "print('CSV saved > ', target_file)"
   ]
  },
  {
   "cell_type": "code",
   "execution_count": null,
   "metadata": {
    "collapsed": true
   },
   "outputs": [],
   "source": []
  }
 ],
 "metadata": {
  "anaconda-cloud": {},
  "kernelspec": {
   "display_name": "Python [Root]",
   "language": "python",
   "name": "Python [Root]"
  },
  "language_info": {
   "codemirror_mode": {
    "name": "ipython",
    "version": 3
   },
   "file_extension": ".py",
   "mimetype": "text/x-python",
   "name": "python",
   "nbconvert_exporter": "python",
   "pygments_lexer": "ipython3",
   "version": "3.5.2"
  }
 },
 "nbformat": 4,
 "nbformat_minor": 0
}
