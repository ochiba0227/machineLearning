{
 "cells": [
  {
   "cell_type": "code",
   "execution_count": 2,
   "metadata": {
    "collapsed": false
   },
   "outputs": [
    {
     "name": "stdout",
     "output_type": "stream",
     "text": [
      "\n",
      "Loading Data...\n",
      "\n",
      "Training_Shape: (49999, 11)\n"
     ]
    }
   ],
   "source": [
    "import numpy as np\n",
    "import xgboost as xgb\n",
    "import pandas as pd\n",
    "import math\n",
    "\n",
    "from sklearn.ensemble import RandomForestRegressor\n",
    "from sklearn.cross_validation import train_test_split\n",
    "from ml_metrics import rmsle\n",
    "\n",
    "print ('')\n",
    "print ('Loading Data...')\n",
    "\n",
    "def evalerror(preds, dtrain):\n",
    "\n",
    "    labels = dtrain.get_label()\n",
    "    assert len(preds) == len(labels)\n",
    "    labels = labels.tolist()\n",
    "    preds = preds.tolist()\n",
    "    terms_to_sum = [(math.log(labels[i] + 1) - math.log(max(0,preds[i]) + 1)) ** 2.0 for i,pred in enumerate(labels)]\n",
    "    return 'error', (sum(terms_to_sum) * (1.0/len(preds))) ** 0.5\n",
    "\n",
    "train = pd.read_csv('../kaggle/train_downsample_50000.csv')\n",
    "test = pd.read_csv('../kaggle/test.csv')\n",
    "\n",
    "print ('')\n",
    "print ('Training_Shape:', train.shape)\n",
    "\n",
    "ids = test['id']\n",
    "test = test.drop(['id'],axis = 1)\n",
    "\n",
    "y = train['Demanda_uni_equil']\n",
    "X = train[test.columns.values]\n"
   ]
  },
  {
   "cell_type": "code",
   "execution_count": 13,
   "metadata": {
    "collapsed": false
   },
   "outputs": [],
   "source": [
    "from sklearn.cross_validation import KFold\n",
    "\n",
    "n_folds = 5\n",
    "num_rounds = 100\n",
    "\n",
    "rmsle_scores = []\n",
    "\n",
    "for train_index, test_index in KFold(n=len(X), n_folds=n_folds, shuffle=True, random_state=1729):\n",
    "    # Xをnparrayへ変更\n",
    "    x_train = X.as_matrix()[train_index]\n",
    "    y_train = y[train_index]\n",
    "    x_test = X.as_matrix()[test_index]\n",
    "    y_test = y[test_index]\n",
    "    \n",
    "    clf = RandomForestRegressor(n_estimators=30 , max_features='log2', random_state=1729)\n",
    "    clf = clf.fit(x_train, y_train)\n",
    "    \n",
    "    preds = clf.predict(x_test)\n",
    "    rmsle_scores.append(rmsle(y_test, preds))"
   ]
  },
  {
   "cell_type": "code",
   "execution_count": 14,
   "metadata": {
    "collapsed": false
   },
   "outputs": [
    {
     "name": "stdout",
     "output_type": "stream",
     "text": [
      "0.767372891657\n"
     ]
    }
   ],
   "source": [
    "print(sum(rmsle_scores)/n_folds)"
   ]
  },
  {
   "cell_type": "code",
   "execution_count": null,
   "metadata": {
    "collapsed": true
   },
   "outputs": [],
   "source": []
  }
 ],
 "metadata": {
  "anaconda-cloud": {},
  "kernelspec": {
   "display_name": "Python [Root]",
   "language": "python",
   "name": "Python [Root]"
  },
  "language_info": {
   "codemirror_mode": {
    "name": "ipython",
    "version": 3
   },
   "file_extension": ".py",
   "mimetype": "text/x-python",
   "name": "python",
   "nbconvert_exporter": "python",
   "pygments_lexer": "ipython3",
   "version": "3.5.2"
  }
 },
 "nbformat": 4,
 "nbformat_minor": 0
}
